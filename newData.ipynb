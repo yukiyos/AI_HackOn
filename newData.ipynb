{
 "cells": [
  {
   "cell_type": "code",
   "execution_count": 14,
   "id": "b513d5aa",
   "metadata": {},
   "outputs": [],
   "source": [
    "import os\n",
    "import pandas as pd\n",
    "import requests\n",
    "import numpy as np\n"
   ]
  },
  {
   "cell_type": "code",
   "execution_count": 2,
   "id": "e3ee4df5",
   "metadata": {},
   "outputs": [],
   "source": [
    "def convertDataToDataframe(response,lat,long):\n",
    "    data =response.json()\n",
    "    lat = lat\n",
    "    lon = long\n",
    "    time = data['dimensions']['time']['data']\n",
    "    wavedirection = data['variables']['wave.direction.mean']['data']\n",
    "    windspeed = data['variables']['wind.speed.eastward.at-10m']['data']\n",
    "    new_row =pd.DataFrame({\n",
    "    'Latitude': lat,\n",
    "    'Longitude': lon,\n",
    "    'Time': time,\n",
    "    'WaveDirection': wavedirection,\n",
    "    'WindSpeed': windspeed\n",
    "    })\n",
    "    return new_row"
   ]
  },
  {
   "cell_type": "code",
   "execution_count": 133,
   "id": "c3a82a5d",
   "metadata": {},
   "outputs": [],
   "source": [
    "api_URL = f\"https://forecast-v2.metoceanapi.com/point/time?lat={lat}&lon={long}&variables=wave.direction.mean,wind.speed.eastward.at-10m&from=2024-08-10T02%3A54%3A15.021Z&interval=1h&repeat=24&baseModels=wave%3Aecmwf\"\n",
    "response = requests.get(api_URL, headers=headers)\n",
    "new_df = convertDataToDataframe(response,lat,long)\n",
    "df = pd.concat([df, new_df], ignore_index=True)"
   ]
  },
  {
   "cell_type": "code",
   "execution_count": null,
   "id": "b981d92b",
   "metadata": {},
   "outputs": [],
   "source": []
  },
  {
   "cell_type": "code",
   "execution_count": null,
   "id": "dfaf7a5b",
   "metadata": {},
   "outputs": [],
   "source": []
  },
  {
   "cell_type": "code",
   "execution_count": null,
   "id": "8b873897",
   "metadata": {},
   "outputs": [],
   "source": []
  },
  {
   "cell_type": "code",
   "execution_count": null,
   "id": "e3e79f6d",
   "metadata": {
    "scrolled": false
   },
   "outputs": [],
   "source": []
  },
  {
   "cell_type": "code",
   "execution_count": 115,
   "id": "ab5f9964",
   "metadata": {},
   "outputs": [],
   "source": [
    "# Types of rubbish, does wind speed affect what type of rubbish washes up, what weight etc denstity.\n",
    "# Value proposotion\n",
    "# Who would benefit from the data"
   ]
  },
  {
   "cell_type": "code",
   "execution_count": 17,
   "id": "18efb1ec",
   "metadata": {},
   "outputs": [],
   "source": [
    "start_lat = -34.163\n",
    "stop_lat =  -47.44\n",
    "start_long = 163\n",
    "stop_long = 179.8\n",
    "key = \"SF6vJVhGKXmDu9TfAJQ4CH\"\n",
    "\n",
    "headers = {\n",
    "    'x-api-key':  key  \n",
    "}\n",
    "for lat in np.arange(start_lat, stop_lat, -1.3):\n",
    "    for long in np.arange(start_long, stop_long , 1.6):\n",
    "        api_URL = f\"https://forecast-v2.metoceanapi.com/point/time?lat={lat}&lon={long}&variables=wave.direction.mean,wind.speed.eastward.at-10m&from=2024-08-06T02%3A54%3A15.021Z&interval=24h&repeat=24&baseModels=wave%3Aecmwf\"\n",
    "        response = requests.get(api_URL, headers=headers)\n",
    "        new_df = convertDataToDataframe(response,lat,long)\n",
    "        df = pd.concat([df, new_df], ignore_index=True)\n",
    "\n",
    "\n"
   ]
  },
  {
   "cell_type": "code",
   "execution_count": 11,
   "id": "c85030ab",
   "metadata": {},
   "outputs": [],
   "source": [
    "        api_URL = f\"https://forecast-v2.metoceanapi.com/point/time?lat=-34.163&lon=163&variables=wave.direction.mean,wind.speed.eastward.at-10m&from=2024-08-06T02%3A54%3A15.021Z&interval=24h&repeat=24&baseModels=wave%3Aecmwf\"\n",
    "        response = requests.get(api_URL, headers=headers)\n",
    "        new_df = convertDataToDataframe(response,-34.163,163)"
   ]
  },
  {
   "cell_type": "code",
   "execution_count": 7,
   "id": "71163859",
   "metadata": {},
   "outputs": [],
   "source": [
    "key = \"SF6vJVhGKXmDu9TfAJQ4CH\"\n",
    "\n",
    "headers = {\n",
    "    'x-api-key':  key  \n",
    "}"
   ]
  },
  {
   "cell_type": "code",
   "execution_count": 18,
   "id": "3b72923e",
   "metadata": {
    "scrolled": false
   },
   "outputs": [
    {
     "data": {
      "text/html": [
       "<div>\n",
       "<style scoped>\n",
       "    .dataframe tbody tr th:only-of-type {\n",
       "        vertical-align: middle;\n",
       "    }\n",
       "\n",
       "    .dataframe tbody tr th {\n",
       "        vertical-align: top;\n",
       "    }\n",
       "\n",
       "    .dataframe thead th {\n",
       "        text-align: right;\n",
       "    }\n",
       "</style>\n",
       "<table border=\"1\" class=\"dataframe\">\n",
       "  <thead>\n",
       "    <tr style=\"text-align: right;\">\n",
       "      <th></th>\n",
       "      <th>Latitude</th>\n",
       "      <th>Longitude</th>\n",
       "      <th>Time</th>\n",
       "      <th>WaveDirection</th>\n",
       "      <th>WindSpeed</th>\n",
       "    </tr>\n",
       "  </thead>\n",
       "  <tbody>\n",
       "    <tr>\n",
       "      <th>0</th>\n",
       "      <td>-34.163</td>\n",
       "      <td>163.0</td>\n",
       "      <td>2024-08-06T02:54:15.021Z</td>\n",
       "      <td>166.89313</td>\n",
       "      <td>-4.251586</td>\n",
       "    </tr>\n",
       "    <tr>\n",
       "      <th>1</th>\n",
       "      <td>-34.163</td>\n",
       "      <td>163.0</td>\n",
       "      <td>2024-08-07T02:54:15.021Z</td>\n",
       "      <td>248.27496</td>\n",
       "      <td>5.938585</td>\n",
       "    </tr>\n",
       "    <tr>\n",
       "      <th>2</th>\n",
       "      <td>-34.163</td>\n",
       "      <td>163.0</td>\n",
       "      <td>2024-08-08T02:54:15.021Z</td>\n",
       "      <td>218.01495</td>\n",
       "      <td>0.285650</td>\n",
       "    </tr>\n",
       "    <tr>\n",
       "      <th>3</th>\n",
       "      <td>-34.163</td>\n",
       "      <td>163.0</td>\n",
       "      <td>2024-08-09T02:54:15.021Z</td>\n",
       "      <td>211.20738</td>\n",
       "      <td>-3.019847</td>\n",
       "    </tr>\n",
       "    <tr>\n",
       "      <th>4</th>\n",
       "      <td>-34.163</td>\n",
       "      <td>163.0</td>\n",
       "      <td>2024-08-10T02:54:15.021Z</td>\n",
       "      <td>185.14973</td>\n",
       "      <td>-4.129253</td>\n",
       "    </tr>\n",
       "    <tr>\n",
       "      <th>...</th>\n",
       "      <td>...</td>\n",
       "      <td>...</td>\n",
       "      <td>...</td>\n",
       "      <td>...</td>\n",
       "      <td>...</td>\n",
       "    </tr>\n",
       "    <tr>\n",
       "      <th>3045</th>\n",
       "      <td>-47.163</td>\n",
       "      <td>179.0</td>\n",
       "      <td>2024-08-26T02:54:15.021Z</td>\n",
       "      <td>NaN</td>\n",
       "      <td>NaN</td>\n",
       "    </tr>\n",
       "    <tr>\n",
       "      <th>3046</th>\n",
       "      <td>-47.163</td>\n",
       "      <td>179.0</td>\n",
       "      <td>2024-08-27T02:54:15.021Z</td>\n",
       "      <td>NaN</td>\n",
       "      <td>NaN</td>\n",
       "    </tr>\n",
       "    <tr>\n",
       "      <th>3047</th>\n",
       "      <td>-47.163</td>\n",
       "      <td>179.0</td>\n",
       "      <td>2024-08-28T02:54:15.021Z</td>\n",
       "      <td>NaN</td>\n",
       "      <td>NaN</td>\n",
       "    </tr>\n",
       "    <tr>\n",
       "      <th>3048</th>\n",
       "      <td>-47.163</td>\n",
       "      <td>179.0</td>\n",
       "      <td>2024-08-29T02:54:15.021Z</td>\n",
       "      <td>NaN</td>\n",
       "      <td>NaN</td>\n",
       "    </tr>\n",
       "    <tr>\n",
       "      <th>3049</th>\n",
       "      <td>-47.163</td>\n",
       "      <td>179.0</td>\n",
       "      <td>2024-08-30T02:54:15.021Z</td>\n",
       "      <td>NaN</td>\n",
       "      <td>NaN</td>\n",
       "    </tr>\n",
       "  </tbody>\n",
       "</table>\n",
       "<p>3050 rows × 5 columns</p>\n",
       "</div>"
      ],
      "text/plain": [
       "      Latitude  Longitude                      Time  WaveDirection  WindSpeed\n",
       "0      -34.163      163.0  2024-08-06T02:54:15.021Z      166.89313  -4.251586\n",
       "1      -34.163      163.0  2024-08-07T02:54:15.021Z      248.27496   5.938585\n",
       "2      -34.163      163.0  2024-08-08T02:54:15.021Z      218.01495   0.285650\n",
       "3      -34.163      163.0  2024-08-09T02:54:15.021Z      211.20738  -3.019847\n",
       "4      -34.163      163.0  2024-08-10T02:54:15.021Z      185.14973  -4.129253\n",
       "...        ...        ...                       ...            ...        ...\n",
       "3045   -47.163      179.0  2024-08-26T02:54:15.021Z            NaN        NaN\n",
       "3046   -47.163      179.0  2024-08-27T02:54:15.021Z            NaN        NaN\n",
       "3047   -47.163      179.0  2024-08-28T02:54:15.021Z            NaN        NaN\n",
       "3048   -47.163      179.0  2024-08-29T02:54:15.021Z            NaN        NaN\n",
       "3049   -47.163      179.0  2024-08-30T02:54:15.021Z            NaN        NaN\n",
       "\n",
       "[3050 rows x 5 columns]"
      ]
     },
     "execution_count": 18,
     "metadata": {},
     "output_type": "execute_result"
    }
   ],
   "source": [
    "df "
   ]
  }
 ],
 "metadata": {
  "kernelspec": {
   "display_name": "Python 3 (ipykernel)",
   "language": "python",
   "name": "python3"
  },
  "language_info": {
   "codemirror_mode": {
    "name": "ipython",
    "version": 3
   },
   "file_extension": ".py",
   "mimetype": "text/x-python",
   "name": "python",
   "nbconvert_exporter": "python",
   "pygments_lexer": "ipython3",
   "version": "3.11.4"
  }
 },
 "nbformat": 4,
 "nbformat_minor": 5
}
