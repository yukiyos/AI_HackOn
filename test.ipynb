{
 "cells": [
  {
   "cell_type": "code",
   "execution_count": 11,
   "metadata": {},
   "outputs": [],
   "source": [
    "import numpy as np\n",
    "import tensorflow as tf\n",
    "import pandas as pd\n",
    "from sklearn.model_selection import train_test_split\n",
    "from sklearn.preprocessing import StandardScaler\n",
    "from sklearn.preprocessing import LabelEncoder"
   ]
  },
  {
   "cell_type": "code",
   "execution_count": 12,
   "metadata": {},
   "outputs": [
    {
     "data": {
      "text/html": [
       "<div>\n",
       "<style scoped>\n",
       "    .dataframe tbody tr th:only-of-type {\n",
       "        vertical-align: middle;\n",
       "    }\n",
       "\n",
       "    .dataframe tbody tr th {\n",
       "        vertical-align: top;\n",
       "    }\n",
       "\n",
       "    .dataframe thead th {\n",
       "        text-align: right;\n",
       "    }\n",
       "</style>\n",
       "<table border=\"1\" class=\"dataframe\">\n",
       "  <thead>\n",
       "    <tr style=\"text-align: right;\">\n",
       "      <th></th>\n",
       "      <th>SurveyId</th>\n",
       "      <th>Region</th>\n",
       "      <th>SurveyDate</th>\n",
       "      <th>SurveyAreaLatitudeStart</th>\n",
       "      <th>SurveyAreaLongitudeStart</th>\n",
       "      <th>Rubbish_Count</th>\n",
       "      <th>count_same</th>\n",
       "      <th>date average</th>\n",
       "      <th>Current_Speed</th>\n",
       "      <th>Current_Direction</th>\n",
       "      <th>Water_Temperature</th>\n",
       "    </tr>\n",
       "  </thead>\n",
       "  <tbody>\n",
       "    <tr>\n",
       "      <th>0</th>\n",
       "      <td>1</td>\n",
       "      <td>Northland</td>\n",
       "      <td>09/10/2023</td>\n",
       "      <td>-34.334773</td>\n",
       "      <td>173.398059</td>\n",
       "      <td>92</td>\n",
       "      <td>112</td>\n",
       "      <td>0.922314</td>\n",
       "      <td>0.549671</td>\n",
       "      <td>150.267961</td>\n",
       "      <td>15.026004</td>\n",
       "    </tr>\n",
       "    <tr>\n",
       "      <th>1</th>\n",
       "      <td>2</td>\n",
       "      <td>Gisborne</td>\n",
       "      <td>12/08/2021</td>\n",
       "      <td>-34.052894</td>\n",
       "      <td>166.825654</td>\n",
       "      <td>101</td>\n",
       "      <td>112</td>\n",
       "      <td>1.497980</td>\n",
       "      <td>0.486174</td>\n",
       "      <td>79.958812</td>\n",
       "      <td>17.907068</td>\n",
       "    </tr>\n",
       "    <tr>\n",
       "      <th>2</th>\n",
       "      <td>3</td>\n",
       "      <td>Wellington</td>\n",
       "      <td>08/27/2019</td>\n",
       "      <td>-46.273675</td>\n",
       "      <td>166.478684</td>\n",
       "      <td>80</td>\n",
       "      <td>112</td>\n",
       "      <td>1.549685</td>\n",
       "      <td>0.564769</td>\n",
       "      <td>43.151532</td>\n",
       "      <td>14.470686</td>\n",
       "    </tr>\n",
       "    <tr>\n",
       "      <th>3</th>\n",
       "      <td>4</td>\n",
       "      <td>Northland</td>\n",
       "      <td>03/04/2023</td>\n",
       "      <td>-37.418538</td>\n",
       "      <td>167.740078</td>\n",
       "      <td>87</td>\n",
       "      <td>112</td>\n",
       "      <td>1.986591</td>\n",
       "      <td>0.652303</td>\n",
       "      <td>121.541462</td>\n",
       "      <td>20.440338</td>\n",
       "    </tr>\n",
       "    <tr>\n",
       "      <th>4</th>\n",
       "      <td>5</td>\n",
       "      <td>Gisborne</td>\n",
       "      <td>03/19/2021</td>\n",
       "      <td>-39.903095</td>\n",
       "      <td>166.177736</td>\n",
       "      <td>112</td>\n",
       "      <td>112</td>\n",
       "      <td>2.133945</td>\n",
       "      <td>0.476585</td>\n",
       "      <td>339.447493</td>\n",
       "      <td>16.251335</td>\n",
       "    </tr>\n",
       "  </tbody>\n",
       "</table>\n",
       "</div>"
      ],
      "text/plain": [
       "   SurveyId      Region  SurveyDate  SurveyAreaLatitudeStart  \\\n",
       "0         1   Northland  09/10/2023               -34.334773   \n",
       "1         2    Gisborne  12/08/2021               -34.052894   \n",
       "2         3  Wellington  08/27/2019               -46.273675   \n",
       "3         4   Northland  03/04/2023               -37.418538   \n",
       "4         5    Gisborne  03/19/2021               -39.903095   \n",
       "\n",
       "   SurveyAreaLongitudeStart  Rubbish_Count  count_same  date average  \\\n",
       "0                173.398059             92         112      0.922314   \n",
       "1                166.825654            101         112      1.497980   \n",
       "2                166.478684             80         112      1.549685   \n",
       "3                167.740078             87         112      1.986591   \n",
       "4                166.177736            112         112      2.133945   \n",
       "\n",
       "   Current_Speed  Current_Direction  Water_Temperature  \n",
       "0       0.549671         150.267961          15.026004  \n",
       "1       0.486174          79.958812          17.907068  \n",
       "2       0.564769          43.151532          14.470686  \n",
       "3       0.652303         121.541462          20.440338  \n",
       "4       0.476585         339.447493          16.251335  "
      ]
     },
     "execution_count": 12,
     "metadata": {},
     "output_type": "execute_result"
    }
   ],
   "source": [
    "data = pd.read_csv('simulated_nz_ocean_current.csv')\n",
    "data.head()"
   ]
  },
  {
   "cell_type": "code",
   "execution_count": 13,
   "metadata": {},
   "outputs": [
    {
     "name": "stdout",
     "output_type": "stream",
     "text": [
      "<class 'pandas.core.frame.DataFrame'>\n",
      "RangeIndex: 100 entries, 0 to 99\n",
      "Data columns (total 11 columns):\n",
      " #   Column                    Non-Null Count  Dtype  \n",
      "---  ------                    --------------  -----  \n",
      " 0   SurveyId                  100 non-null    int64  \n",
      " 1   Region                    100 non-null    object \n",
      " 2   SurveyDate                100 non-null    object \n",
      " 3   SurveyAreaLatitudeStart   100 non-null    float64\n",
      " 4   SurveyAreaLongitudeStart  100 non-null    float64\n",
      " 5   Rubbish_Count             100 non-null    int64  \n",
      " 6   count_same                100 non-null    int64  \n",
      " 7   date average              100 non-null    float64\n",
      " 8   Current_Speed             100 non-null    float64\n",
      " 9   Current_Direction         100 non-null    float64\n",
      " 10  Water_Temperature         100 non-null    float64\n",
      "dtypes: float64(6), int64(3), object(2)\n",
      "memory usage: 8.7+ KB\n"
     ]
    }
   ],
   "source": [
    "data.info()"
   ]
  },
  {
   "cell_type": "code",
   "execution_count": 14,
   "metadata": {},
   "outputs": [],
   "source": [
    "#encode the behaviour column\n",
    "le = LabelEncoder()\n",
    "data['Region'] = le.fit_transform(data['Region'])"
   ]
  },
  {
   "cell_type": "code",
   "execution_count": 15,
   "metadata": {},
   "outputs": [],
   "source": [
    "# Drop the 'SurveyId' and 'SurveyDate' columns\n",
    "data = data.drop(columns=['SurveyId', 'SurveyDate'])\n",
    "X = data.drop('Rubbish_Count', axis=1)\n",
    "y = data['Rubbish_Count']"
   ]
  },
  {
   "cell_type": "code",
   "execution_count": 17,
   "metadata": {},
   "outputs": [],
   "source": [
    "xtrain, xtest, ytrain, ytest = train_test_split(X, y, test_size=0.2, random_state=42)\n",
    "# Scale the data\n",
    "scaler = StandardScaler()\n",
    "X_train_scaled = scaler.fit_transform(xtrain)\n",
    "X_test_scaled = scaler.transform(xtest)"
   ]
  }
 ],
 "metadata": {
  "kernelspec": {
   "display_name": "py310",
   "language": "python",
   "name": "python3"
  },
  "language_info": {
   "codemirror_mode": {
    "name": "ipython",
    "version": 3
   },
   "file_extension": ".py",
   "mimetype": "text/x-python",
   "name": "python",
   "nbconvert_exporter": "python",
   "pygments_lexer": "ipython3",
   "version": "3.10.14"
  }
 },
 "nbformat": 4,
 "nbformat_minor": 2
}
